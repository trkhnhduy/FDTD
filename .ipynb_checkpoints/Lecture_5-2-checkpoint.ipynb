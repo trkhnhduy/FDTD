{
 "cells": [
  {
   "cell_type": "markdown",
   "id": "bb744795-b3f3-4c6b-bf30-09a20733bb8c",
   "metadata": {},
   "source": [
    "## silicon slab transmission"
   ]
  }
 ],
 "metadata": {
  "kernelspec": {
   "display_name": "Python 3 (ipykernel)",
   "language": "python",
   "name": "python3"
  },
  "language_info": {
   "codemirror_mode": {
    "name": "ipython",
    "version": 3
   },
   "file_extension": ".py",
   "mimetype": "text/x-python",
   "name": "python",
   "nbconvert_exporter": "python",
   "pygments_lexer": "ipython3",
   "version": "3.10.13"
  }
 },
 "nbformat": 4,
 "nbformat_minor": 5
}
