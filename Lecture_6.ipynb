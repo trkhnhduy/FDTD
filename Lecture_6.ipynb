{
 "cells": [
  {
   "cell_type": "markdown",
   "id": "14caf5b3-ed36-49f4-9fb0-f890a71fb703",
   "metadata": {},
   "source": [
    "# Perfectly Matched Layer (PML)\n",
    "- Explain the concept of PML through coordinate transformation.\n",
    "- Show that the performance of PML should be characterized by the amplitude rather than the intensity of parasitic reflection, and present a simple approach to compute parasitic reflection at many frequencies.\n",
    "- Illustrate typical signature in the spectrum when the parasitic reflection at the boundary is significant."
   ]
  },
  {
   "cell_type": "code",
   "execution_count": 1,
   "id": "f1c53ed7-b42b-461f-862d-8922a898e63b",
   "metadata": {},
   "outputs": [],
   "source": [
    "# standard python imports\n",
    "import numpy as np\n",
    "import matplotlib.pyplot as plt\n",
    "\n",
    "import tidy3d as td\n",
    "from tidy3d import web"
   ]
  },
  {
   "cell_type": "code",
   "execution_count": 25,
   "id": "62bb0e8e-877f-4378-8cca-6efa00aafa7e",
   "metadata": {},
   "outputs": [],
   "source": [
    "# The setup of the 1D simulation:8\n",
    "\n",
    "# |     |          |        |            |         |            |     |\n",
    "# |`PML`|   dPML   |`source`|  distance  |`monitor`|  distance  |`PML`|\n",
    "# |     |          |        |            |         |            |     |\n",
    "\n",
    "# Number of PML layers\n",
    "Npml = 12 # the default number of layers is 12\n",
    "\n",
    "# sufficiently large distance between the source and the time monitor\n",
    "distance = 100 #um\n",
    "# distance between the source and PML\n",
    "dPML = 1 #um\n",
    "\n",
    "# Wavelength and frequency range of the source\n",
    "freq0 = 300e12 #Hz, central frequency\n",
    "fwidth = freq0/5 #frequency pulse width\n",
    "lambda0 = td.C_0 / freq0\n",
    "\n",
    "# resolution\n",
    "resolution = 20\n",
    "dl = lambda0/resolution\n",
    "\n",
    "# runtime\n",
    "t_stop = 5e-12\n",
    "\n",
    "# simulation domain size\n",
    "sim_size = Lx, Ly, Lz = (dl, dl, 2*distance+dPML)"
   ]
  },
  {
   "cell_type": "code",
   "execution_count": 26,
   "id": "2ea46a9d-d9fe-4071-b12a-d8988a63cd05",
   "metadata": {},
   "outputs": [
    {
     "data": {
      "text/html": [
       "<pre style=\"white-space:pre;overflow-x:auto;line-height:normal;font-family:Menlo,'DejaVu Sans Mono',consolas,'Courier New',monospace\"><span style=\"color: #7fbfbf; text-decoration-color: #7fbfbf\">00:12:23 +07 </span><span style=\"color: #800000; text-decoration-color: #800000\">WARNING: The monitor </span><span style=\"color: #008000; text-decoration-color: #008000\">'interval'</span><span style=\"color: #800000; text-decoration-color: #800000\"> field was left as its default      </span>\n",
       "<span style=\"color: #7fbfbf; text-decoration-color: #7fbfbf\">             </span><span style=\"color: #800000; text-decoration-color: #800000\">value, which will set it to </span><span style=\"color: #008080; text-decoration-color: #008080; font-weight: bold\">1</span><span style=\"color: #800000; text-decoration-color: #800000\"> internally. A value of </span><span style=\"color: #008080; text-decoration-color: #008080; font-weight: bold\">1</span><span style=\"color: #800000; text-decoration-color: #800000\"> means that  </span>\n",
       "<span style=\"color: #7fbfbf; text-decoration-color: #7fbfbf\">             </span><span style=\"color: #800000; text-decoration-color: #800000\">the data will be sampled at every time step, which may potentially </span>\n",
       "<span style=\"color: #7fbfbf; text-decoration-color: #7fbfbf\">             </span><span style=\"color: #800000; text-decoration-color: #800000\">produce more data than desired, depending on the use case. To      </span>\n",
       "<span style=\"color: #7fbfbf; text-decoration-color: #7fbfbf\">             </span><span style=\"color: #800000; text-decoration-color: #800000\">reduce data storage, one may downsample the data by setting        </span>\n",
       "<span style=\"color: #7fbfbf; text-decoration-color: #7fbfbf\">             </span><span style=\"color: #008000; text-decoration-color: #008000\">'interval &gt; 1'</span><span style=\"color: #800000; text-decoration-color: #800000\"> or by choosing alternative </span><span style=\"color: #008000; text-decoration-color: #008000\">'start'</span><span style=\"color: #800000; text-decoration-color: #800000\"> and </span><span style=\"color: #008000; text-decoration-color: #008000\">'stop'</span><span style=\"color: #800000; text-decoration-color: #800000\"> values</span>\n",
       "<span style=\"color: #7fbfbf; text-decoration-color: #7fbfbf\">             </span><span style=\"color: #800000; text-decoration-color: #800000\">for the time sampling. If you intended to use the highest          </span>\n",
       "<span style=\"color: #7fbfbf; text-decoration-color: #7fbfbf\">             </span><span style=\"color: #800000; text-decoration-color: #800000\">resolution time sampling, you may suppress this warning by         </span>\n",
       "<span style=\"color: #7fbfbf; text-decoration-color: #7fbfbf\">             </span><span style=\"color: #800000; text-decoration-color: #800000\">explicitly setting </span><span style=\"color: #008000; text-decoration-color: #008000\">'interval=1'</span><span style=\"color: #800000; text-decoration-color: #800000\"> in the monitor.                    </span>\n",
       "</pre>\n"
      ],
      "text/plain": [
       "\u001b[2;36m00:12:23 +07\u001b[0m\u001b[2;36m \u001b[0m\u001b[31mWARNING: The monitor \u001b[0m\u001b[32m'interval'\u001b[0m\u001b[31m field was left as its default      \u001b[0m\n",
       "\u001b[2;36m             \u001b[0m\u001b[31mvalue, which will set it to \u001b[0m\u001b[1;36m1\u001b[0m\u001b[31m internally. A value of \u001b[0m\u001b[1;36m1\u001b[0m\u001b[31m means that  \u001b[0m\n",
       "\u001b[2;36m             \u001b[0m\u001b[31mthe data will be sampled at every time step, which may potentially \u001b[0m\n",
       "\u001b[2;36m             \u001b[0m\u001b[31mproduce more data than desired, depending on the use case. To      \u001b[0m\n",
       "\u001b[2;36m             \u001b[0m\u001b[31mreduce data storage, one may downsample the data by setting        \u001b[0m\n",
       "\u001b[2;36m             \u001b[0m\u001b[32m'interval > 1'\u001b[0m\u001b[31m or by choosing alternative \u001b[0m\u001b[32m'start'\u001b[0m\u001b[31m and \u001b[0m\u001b[32m'stop'\u001b[0m\u001b[31m values\u001b[0m\n",
       "\u001b[2;36m             \u001b[0m\u001b[31mfor the time sampling. If you intended to use the highest          \u001b[0m\n",
       "\u001b[2;36m             \u001b[0m\u001b[31mresolution time sampling, you may suppress this warning by         \u001b[0m\n",
       "\u001b[2;36m             \u001b[0m\u001b[31mexplicitly setting \u001b[0m\u001b[32m'\u001b[0m\u001b[32minterval\u001b[0m\u001b[32m=\u001b[0m\u001b[32m1\u001b[0m\u001b[32m'\u001b[0m\u001b[31m in the monitor.                    \u001b[0m\n"
      ]
     },
     "metadata": {},
     "output_type": "display_data"
    }
   ],
   "source": [
    "# Uniform grid\n",
    "grid_spec = td.GridSpec.uniform(dl=dl)\n",
    "\n",
    "# Planewave source\n",
    "src_z = dPML - Lz/2\n",
    "source = td.PlaneWave(\n",
    "    center=(0,0,src_z),\n",
    "    size=(td.inf, td.inf, 0),\n",
    "    source_time = td.GaussianPulse(\n",
    "        freq0=freq0,\n",
    "        fwidth=fwidth,\n",
    "    ),\n",
    "    direction='+',\n",
    "    name='Gaussian pulse',\n",
    ")\n",
    "\n",
    "# Time monitor at a single point\n",
    "tmnt_pt = td.FieldTimeMonitor(\n",
    "    center=(0, 0, src_z + distance),\n",
    "    name='time',\n",
    "    size=(0, 0, 0),\n",
    ")\n",
    "\n",
    "# PML boundary\n",
    "pml = td.Boundary.pml(num_layers=Npml)\n",
    "bspec = td.BoundarySpec(x=td.Boundary.periodic(), y = td.Boundary.periodic(), z=pml)"
   ]
  },
  {
   "cell_type": "code",
   "execution_count": 27,
   "id": "c0470197-ef4e-49fc-b4e7-7e922ce0aba4",
   "metadata": {},
   "outputs": [],
   "source": [
    "sim = td.Simulation(\n",
    "    center = (0, 0, 0),\n",
    "    size = sim_size,\n",
    "    grid_spec = grid_spec,\n",
    "    structures = [],\n",
    "    sources = [source],\n",
    "    monitors = [tmnt_pt],\n",
    "    run_time = t_stop,\n",
    "    boundary_spec = bspec,\n",
    "    shutoff = 0,\n",
    ")"
   ]
  },
  {
   "cell_type": "code",
   "execution_count": 28,
   "id": "59d5ac8b-9807-4a6b-a9b2-238c1c7c8952",
   "metadata": {
    "scrolled": true
   },
   "outputs": [
    {
     "data": {
      "text/html": [
       "<pre style=\"white-space:pre;overflow-x:auto;line-height:normal;font-family:Menlo,'DejaVu Sans Mono',consolas,'Courier New',monospace\"><span style=\"color: #7fbfbf; text-decoration-color: #7fbfbf\">00:12:27 +07 </span>Created task <span style=\"color: #008000; text-decoration-color: #008000\">'lecture06_pml_reflection'</span> with task_id               \n",
       "<span style=\"color: #7fbfbf; text-decoration-color: #7fbfbf\">             </span><span style=\"color: #008000; text-decoration-color: #008000\">'fdve-63264e20-9994-4de8-8dde-650678791f8b'</span> and task_type <span style=\"color: #008000; text-decoration-color: #008000\">'FDTD'</span>.  \n",
       "</pre>\n"
      ],
      "text/plain": [
       "\u001b[2;36m00:12:27 +07\u001b[0m\u001b[2;36m \u001b[0mCreated task \u001b[32m'lecture06_pml_reflection'\u001b[0m with task_id               \n",
       "\u001b[2;36m             \u001b[0m\u001b[32m'fdve-63264e20-9994-4de8-8dde-650678791f8b'\u001b[0m and task_type \u001b[32m'FDTD'\u001b[0m.  \n"
      ]
     },
     "metadata": {},
     "output_type": "display_data"
    },
    {
     "data": {
      "text/html": [
       "<pre style=\"white-space:pre;overflow-x:auto;line-height:normal;font-family:Menlo,'DejaVu Sans Mono',consolas,'Courier New',monospace\"><span style=\"color: #7fbfbf; text-decoration-color: #7fbfbf\">             </span>View task using web UI at                                          \n",
       "<span style=\"color: #7fbfbf; text-decoration-color: #7fbfbf\">             </span><a href=\"https://tidy3d.simulation.cloud/workbench?taskId=fdve-63264e20-9994-4de8-8dde-650678791f8b\" target=\"_blank\"><span style=\"color: #008000; text-decoration-color: #008000\">'https://tidy3d.simulation.cloud/workbench?taskId=fdve-63264e20-999</span></a>\n",
       "<span style=\"color: #7fbfbf; text-decoration-color: #7fbfbf\">             </span><a href=\"https://tidy3d.simulation.cloud/workbench?taskId=fdve-63264e20-9994-4de8-8dde-650678791f8b\" target=\"_blank\"><span style=\"color: #008000; text-decoration-color: #008000\">4-4de8-8dde-650678791f8b'</span></a>.                                         \n",
       "</pre>\n"
      ],
      "text/plain": [
       "\u001b[2;36m            \u001b[0m\u001b[2;36m \u001b[0mView task using web UI at                                          \n",
       "\u001b[2;36m             \u001b[0m\u001b]8;id=211825;https://tidy3d.simulation.cloud/workbench?taskId=fdve-63264e20-9994-4de8-8dde-650678791f8b\u001b\\\u001b[32m'https://tidy3d.simulation.cloud/workbench?\u001b[0m\u001b]8;;\u001b\\\u001b]8;id=65050;https://tidy3d.simulation.cloud/workbench?taskId=fdve-63264e20-9994-4de8-8dde-650678791f8b\u001b\\\u001b[32mtaskId\u001b[0m\u001b]8;;\u001b\\\u001b]8;id=211825;https://tidy3d.simulation.cloud/workbench?taskId=fdve-63264e20-9994-4de8-8dde-650678791f8b\u001b\\\u001b[32m=\u001b[0m\u001b]8;;\u001b\\\u001b]8;id=89606;https://tidy3d.simulation.cloud/workbench?taskId=fdve-63264e20-9994-4de8-8dde-650678791f8b\u001b\\\u001b[32mfdve\u001b[0m\u001b]8;;\u001b\\\u001b]8;id=211825;https://tidy3d.simulation.cloud/workbench?taskId=fdve-63264e20-9994-4de8-8dde-650678791f8b\u001b\\\u001b[32m-63264e20-999\u001b[0m\u001b]8;;\u001b\\\n",
       "\u001b[2;36m             \u001b[0m\u001b]8;id=211825;https://tidy3d.simulation.cloud/workbench?taskId=fdve-63264e20-9994-4de8-8dde-650678791f8b\u001b\\\u001b[32m4-4de8-8dde-650678791f8b'\u001b[0m\u001b]8;;\u001b\\.                                         \n"
      ]
     },
     "metadata": {},
     "output_type": "display_data"
    },
    {
     "data": {
      "text/html": [
       "<pre style=\"white-space:pre;overflow-x:auto;line-height:normal;font-family:Menlo,'DejaVu Sans Mono',consolas,'Courier New',monospace\"></pre>\n"
      ],
      "text/plain": []
     },
     "metadata": {},
     "output_type": "display_data"
    },
    {
     "data": {
      "text/html": [
       "<pre style=\"white-space:pre;overflow-x:auto;line-height:normal;font-family:Menlo,'DejaVu Sans Mono',consolas,'Courier New',monospace\"><span style=\"color: #7fbfbf; text-decoration-color: #7fbfbf\">00:12:30 +07 </span>status = queued                                                    \n",
       "</pre>\n"
      ],
      "text/plain": [
       "\u001b[2;36m00:12:30 +07\u001b[0m\u001b[2;36m \u001b[0mstatus = queued                                                    \n"
      ]
     },
     "metadata": {},
     "output_type": "display_data"
    },
    {
     "data": {
      "text/html": [
       "<pre style=\"white-space:pre;overflow-x:auto;line-height:normal;font-family:Menlo,'DejaVu Sans Mono',consolas,'Courier New',monospace\"><span style=\"color: #7fbfbf; text-decoration-color: #7fbfbf\">             </span>To cancel the simulation, use <span style=\"color: #008000; text-decoration-color: #008000\">'web.abort(task_id)'</span> or              \n",
       "<span style=\"color: #7fbfbf; text-decoration-color: #7fbfbf\">             </span><span style=\"color: #008000; text-decoration-color: #008000\">'web.delete(task_id)'</span> or abort/delete the task in the web UI.      \n",
       "<span style=\"color: #7fbfbf; text-decoration-color: #7fbfbf\">             </span>Terminating the Python script will not stop the job running on the \n",
       "<span style=\"color: #7fbfbf; text-decoration-color: #7fbfbf\">             </span>cloud.                                                             \n",
       "</pre>\n"
      ],
      "text/plain": [
       "\u001b[2;36m            \u001b[0m\u001b[2;36m \u001b[0mTo cancel the simulation, use \u001b[32m'web.abort\u001b[0m\u001b[32m(\u001b[0m\u001b[32mtask_id\u001b[0m\u001b[32m)\u001b[0m\u001b[32m'\u001b[0m or              \n",
       "\u001b[2;36m             \u001b[0m\u001b[32m'web.delete\u001b[0m\u001b[32m(\u001b[0m\u001b[32mtask_id\u001b[0m\u001b[32m)\u001b[0m\u001b[32m'\u001b[0m or abort/delete the task in the web UI.      \n",
       "\u001b[2;36m             \u001b[0mTerminating the Python script will not stop the job running on the \n",
       "\u001b[2;36m             \u001b[0mcloud.                                                             \n"
      ]
     },
     "metadata": {},
     "output_type": "display_data"
    },
    {
     "data": {
      "text/html": [
       "<pre style=\"white-space:pre;overflow-x:auto;line-height:normal;font-family:Menlo,'DejaVu Sans Mono',consolas,'Courier New',monospace\"><span style=\"color: #7fbfbf; text-decoration-color: #7fbfbf\">00:12:52 +07 </span>status = preprocess                                                \n",
       "</pre>\n"
      ],
      "text/plain": [
       "\u001b[2;36m00:12:52 +07\u001b[0m\u001b[2;36m \u001b[0mstatus = preprocess                                                \n"
      ]
     },
     "metadata": {},
     "output_type": "display_data"
    },
    {
     "data": {
      "text/html": [
       "<pre style=\"white-space:pre;overflow-x:auto;line-height:normal;font-family:Menlo,'DejaVu Sans Mono',consolas,'Courier New',monospace\"></pre>\n"
      ],
      "text/plain": []
     },
     "metadata": {},
     "output_type": "display_data"
    },
    {
     "data": {
      "text/html": [
       "<pre style=\"white-space:pre;overflow-x:auto;line-height:normal;font-family:Menlo,'DejaVu Sans Mono',consolas,'Courier New',monospace\"><span style=\"color: #7fbfbf; text-decoration-color: #7fbfbf\">00:12:55 +07 </span>Maximum FlexCredit cost: <span style=\"color: #008080; text-decoration-color: #008080; font-weight: bold\">0.025</span>. Use <span style=\"color: #008000; text-decoration-color: #008000\">'web.real_cost(task_id)'</span> to get\n",
       "<span style=\"color: #7fbfbf; text-decoration-color: #7fbfbf\">             </span>the billed FlexCredit cost after a simulation run.                 \n",
       "</pre>\n"
      ],
      "text/plain": [
       "\u001b[2;36m00:12:55 +07\u001b[0m\u001b[2;36m \u001b[0mMaximum FlexCredit cost: \u001b[1;36m0.025\u001b[0m. Use \u001b[32m'web.real_cost\u001b[0m\u001b[32m(\u001b[0m\u001b[32mtask_id\u001b[0m\u001b[32m)\u001b[0m\u001b[32m'\u001b[0m to get\n",
       "\u001b[2;36m             \u001b[0mthe billed FlexCredit cost after a simulation run.                 \n"
      ]
     },
     "metadata": {},
     "output_type": "display_data"
    },
    {
     "data": {
      "text/html": [
       "<pre style=\"white-space:pre;overflow-x:auto;line-height:normal;font-family:Menlo,'DejaVu Sans Mono',consolas,'Courier New',monospace\"><span style=\"color: #7fbfbf; text-decoration-color: #7fbfbf\">             </span>starting up solver                                                 \n",
       "</pre>\n"
      ],
      "text/plain": [
       "\u001b[2;36m            \u001b[0m\u001b[2;36m \u001b[0mstarting up solver                                                 \n"
      ]
     },
     "metadata": {},
     "output_type": "display_data"
    },
    {
     "data": {
      "text/html": [
       "<pre style=\"white-space:pre;overflow-x:auto;line-height:normal;font-family:Menlo,'DejaVu Sans Mono',consolas,'Courier New',monospace\"><span style=\"color: #7fbfbf; text-decoration-color: #7fbfbf\">             </span>running solver                                                     \n",
       "</pre>\n"
      ],
      "text/plain": [
       "\u001b[2;36m            \u001b[0m\u001b[2;36m \u001b[0mrunning solver                                                     \n"
      ]
     },
     "metadata": {},
     "output_type": "display_data"
    },
    {
     "data": {
      "text/html": [
       "<pre style=\"white-space:pre;overflow-x:auto;line-height:normal;font-family:Menlo,'DejaVu Sans Mono',consolas,'Courier New',monospace\"></pre>\n"
      ],
      "text/plain": []
     },
     "metadata": {},
     "output_type": "display_data"
    },
    {
     "data": {
      "text/html": [
       "<pre style=\"white-space:pre;overflow-x:auto;line-height:normal;font-family:Menlo,'DejaVu Sans Mono',consolas,'Courier New',monospace\"><span style=\"color: #7fbfbf; text-decoration-color: #7fbfbf\">00:13:03 +07 </span>status = postprocess                                               \n",
       "</pre>\n"
      ],
      "text/plain": [
       "\u001b[2;36m00:13:03 +07\u001b[0m\u001b[2;36m \u001b[0mstatus = postprocess                                               \n"
      ]
     },
     "metadata": {},
     "output_type": "display_data"
    },
    {
     "data": {
      "text/html": [
       "<pre style=\"white-space:pre;overflow-x:auto;line-height:normal;font-family:Menlo,'DejaVu Sans Mono',consolas,'Courier New',monospace\"><span style=\"color: #7fbfbf; text-decoration-color: #7fbfbf\">             </span>status = success                                                   \n",
       "</pre>\n"
      ],
      "text/plain": [
       "\u001b[2;36m            \u001b[0m\u001b[2;36m \u001b[0mstatus = success                                                   \n"
      ]
     },
     "metadata": {},
     "output_type": "display_data"
    },
    {
     "data": {
      "text/html": [
       "<pre style=\"white-space:pre;overflow-x:auto;line-height:normal;font-family:Menlo,'DejaVu Sans Mono',consolas,'Courier New',monospace\"></pre>\n"
      ],
      "text/plain": []
     },
     "metadata": {},
     "output_type": "display_data"
    },
    {
     "data": {
      "text/html": [
       "<pre style=\"white-space:pre;overflow-x:auto;line-height:normal;font-family:Menlo,'DejaVu Sans Mono',consolas,'Courier New',monospace\"><span style=\"color: #7fbfbf; text-decoration-color: #7fbfbf\">00:13:04 +07 </span>View simulation result at                                          \n",
       "<span style=\"color: #7fbfbf; text-decoration-color: #7fbfbf\">             </span><a href=\"https://tidy3d.simulation.cloud/workbench?taskId=fdve-63264e20-9994-4de8-8dde-650678791f8b\" target=\"_blank\"><span style=\"color: #000080; text-decoration-color: #000080; text-decoration: underline\">'https://tidy3d.simulation.cloud/workbench?taskId=fdve-63264e20-999</span></a>\n",
       "<span style=\"color: #7fbfbf; text-decoration-color: #7fbfbf\">             </span><a href=\"https://tidy3d.simulation.cloud/workbench?taskId=fdve-63264e20-9994-4de8-8dde-650678791f8b\" target=\"_blank\"><span style=\"color: #000080; text-decoration-color: #000080; text-decoration: underline\">4-4de8-8dde-650678791f8b'</span></a><span style=\"color: #000080; text-decoration-color: #000080; text-decoration: underline\">.</span>                                         \n",
       "</pre>\n"
      ],
      "text/plain": [
       "\u001b[2;36m00:13:04 +07\u001b[0m\u001b[2;36m \u001b[0mView simulation result at                                          \n",
       "\u001b[2;36m             \u001b[0m\u001b]8;id=49173;https://tidy3d.simulation.cloud/workbench?taskId=fdve-63264e20-9994-4de8-8dde-650678791f8b\u001b\\\u001b[4;34m'https://tidy3d.simulation.cloud/workbench?\u001b[0m\u001b]8;;\u001b\\\u001b]8;id=868532;https://tidy3d.simulation.cloud/workbench?taskId=fdve-63264e20-9994-4de8-8dde-650678791f8b\u001b\\\u001b[4;34mtaskId\u001b[0m\u001b]8;;\u001b\\\u001b]8;id=49173;https://tidy3d.simulation.cloud/workbench?taskId=fdve-63264e20-9994-4de8-8dde-650678791f8b\u001b\\\u001b[4;34m=\u001b[0m\u001b]8;;\u001b\\\u001b]8;id=327418;https://tidy3d.simulation.cloud/workbench?taskId=fdve-63264e20-9994-4de8-8dde-650678791f8b\u001b\\\u001b[4;34mfdve\u001b[0m\u001b]8;;\u001b\\\u001b]8;id=49173;https://tidy3d.simulation.cloud/workbench?taskId=fdve-63264e20-9994-4de8-8dde-650678791f8b\u001b\\\u001b[4;34m-63264e20-999\u001b[0m\u001b]8;;\u001b\\\n",
       "\u001b[2;36m             \u001b[0m\u001b]8;id=49173;https://tidy3d.simulation.cloud/workbench?taskId=fdve-63264e20-9994-4de8-8dde-650678791f8b\u001b\\\u001b[4;34m4-4de8-8dde-650678791f8b'\u001b[0m\u001b]8;;\u001b\\\u001b[4;34m.\u001b[0m                                         \n"
      ]
     },
     "metadata": {},
     "output_type": "display_data"
    },
    {
     "data": {
      "text/html": [
       "<pre style=\"white-space:pre;overflow-x:auto;line-height:normal;font-family:Menlo,'DejaVu Sans Mono',consolas,'Courier New',monospace\"></pre>\n"
      ],
      "text/plain": []
     },
     "metadata": {},
     "output_type": "display_data"
    },
    {
     "data": {
      "text/html": [
       "<pre style=\"white-space:pre;overflow-x:auto;line-height:normal;font-family:Menlo,'DejaVu Sans Mono',consolas,'Courier New',monospace\"><span style=\"color: #7fbfbf; text-decoration-color: #7fbfbf\">00:13:15 +07 </span>loading simulation from data/data_pml_reflection.hdf5              \n",
       "</pre>\n"
      ],
      "text/plain": [
       "\u001b[2;36m00:13:15 +07\u001b[0m\u001b[2;36m \u001b[0mloading simulation from data/data_pml_reflection.hdf5              \n"
      ]
     },
     "metadata": {},
     "output_type": "display_data"
    }
   ],
   "source": [
    "sim_data = web.run(sim, task_name='lecture06_pml_reflection', path=f'data/data_pml_reflection.hdf5')"
   ]
  },
  {
   "cell_type": "code",
   "execution_count": 29,
   "id": "4c351428-7b17-4d8c-a703-65f4cb3c3615",
   "metadata": {
    "scrolled": true
   },
   "outputs": [
    {
     "data": {
      "image/png": "[encoded data removed]",
      "text/plain": [
       "<Figure size 700x400 with 1 Axes>"
      ]
     },
     "metadata": {},
     "output_type": "display_data"
    }
   ],
   "source": [
    "plt.rcParams.update({'font.size': 16})\n",
    "fig, ax = plt.subplots(1,figsize=(7,4), tight_layout=True)\n",
    "\n",
    "speed = td.C_0\n",
    "time_reach_monitor = source.source_time.offset/fwidth/2/np.pi + distance/speed\n",
    "time_reflection = time_reach_monitor + 2*distance/speed\n",
    "ax.vlines(time_reach_monitor*1e12,-600,600,colors='r',linestyle='dashed')\n",
    "ax.vlines(time_reflection*1e12,-600,600,colors='b',linestyle='dashed')\n",
    "\n",
    "time_data = sim_data['time']\n",
    "Ex = time_data.Ex\n",
    "Ex_values = np.squeeze(Ex.values)\n",
    "\n",
    "ax.plot(Ex.t*1e12,Ex_values)\n",
    "ax.set_xlabel('time (ps)')\n",
    "ax.set_ylabel('$E_x$')\n",
    "ax.set_xlim(0,1.5)\n",
    "ax.set_ylim(-600,600)\n",
    "plt.show()"
   ]
  },
  {
   "cell_type": "code",
   "execution_count": 30,
   "id": "63a57745-1a4f-417f-b1a1-b5df48f5629e",
   "metadata": {},
   "outputs": [
    {
     "name": "stderr",
     "output_type": "stream",
     "text": [
      "/tmp/ipykernel_59406/886578433.py:8: DeprecationWarning: Conversion of an array with ndim > 0 to a scalar is deprecated, and will error in future. Ensure you extract a single element from your array before performing this operation. (Deprecated NumPy 1.25.)\n",
      "  Nt = int(inds[0])\n"
     ]
    }
   ],
   "source": [
    "# First, let's select two time intervals of equal length. The first interval\n",
    "# completely contains the original incident pulse, and the second interval\n",
    "# completely contains the reflected pulse. We take the former to\n",
    "# be [0,time_reach_PML), and the latter to be [time_reach_PML,2*time_reach_PML)\n",
    "\n",
    "time_reach_PML = source.source_time.offset/fwidth/2/np.pi + 2* distance/speed\n",
    "inds = np.argwhere(np.array(Ex.t)>=time_reach_PML)\n",
    "Nt = int(inds[0])"
   ]
  },
  {
   "cell_type": "code",
   "execution_count": 31,
   "id": "6c3de016-c60e-47bb-86f9-929e00022162",
   "metadata": {},
   "outputs": [
    {
     "data": {
      "image/png": "[encoded data removed]",
      "text/plain": [
       "<Figure size 800x400 with 2 Axes>"
      ]
     },
     "metadata": {},
     "output_type": "display_data"
    }
   ],
   "source": [
    "# Now let's perform FFT in each interval, and visualize the spectrum\n",
    "dt = sim.dt\n",
    "df = 1/Nt/dt\n",
    "fmesh = np.arange(0, Nt)*df\n",
    "\n",
    "# original pulse\n",
    "spectrum_original = 1/np.sqrt(2*np.pi)*np.fft.ifft(np.fft.ifftshift(Ex_values[:Nt]))/df\n",
    "#reflected pulse\n",
    "spectrum_reflection = 1/np.sqrt(2*np.pi)*np.fft.ifft(np.fft.ifftshift(Ex_values[Nt:Nt*2]))/df\n",
    "\n",
    "# visualization of each spectrum\n",
    "fig, ax = plt.subplots(1,2,figsize=(8,4), tight_layout=True)\n",
    "ax[0].plot(fmesh/1e12, np.abs(spectrum_original),label='Original')\n",
    "ax[0].plot(fmesh/1e12, np.abs(spectrum_reflection),label='Reflected')\n",
    "ax[0].set_xlim((freq0-fwidth)/1e12,(freq0+fwidth)/1e12)\n",
    "ax[0].set_ylim(0,8e-13)\n",
    "ax[0].set_xlabel('Frequency (THz)')\n",
    "ax[0].set_title('Spectrum')\n",
    "ax[0].legend()\n",
    "\n",
    "# visualization of reflection spectrum\n",
    "ax[1].plot(fmesh/1e12, np.abs(spectrum_reflection/spectrum_original))\n",
    "ax[1].set_xlim((freq0-fwidth)/1e12,(freq0+fwidth)/1e12)\n",
    "ax[1].set_yscale('log')\n",
    "ax[1].set_ylim(1e-6,1)\n",
    "ax[1].set_title('Reflection amplitude')\n",
    "ax[1].set_xlabel('Frequency (THz)')\n",
    "plt.show()"
   ]
  },
  {
   "cell_type": "code",
   "execution_count": 32,
   "id": "7a4f6ccb-de3c-4620-87fd-aaa738846642",
   "metadata": {},
   "outputs": [],
   "source": [
    "# Wavelength and frequency range\n",
    "freq_range = (200e12, 400e12)\n",
    "lambda_range = (td.constants.C_0/freq_range[1], td.constants.C_0/freq_range[0])\n",
    "freq0 = np.sum(freq_range)/2\n",
    "\n",
    "# frequencies and wavelengths of monitor\n",
    "Nfreq = 301\n",
    "monitor_freqs = np.linspace(freq_range[0], freq_range[1], Nfreq)\n",
    "monitor_lambdas = td.constants.C_0 / monitor_freqs\n",
    "\n",
    "# central frequency, frequency pulse width and total running time\n",
    "lambda0 = td.C_0 / freq0\n",
    "bandwidth = 0.4  # bandwidth of source in units of delta frequency.  0.38 for broadband\n",
    "\n",
    "freqw  = bandwidth * (freq_range[1] - freq_range[0])\n",
    "t_stop = 500 / freq0\n",
    "\n",
    "# Thickness and refractive index of slab\n",
    "t_slab = 0.5\n",
    "n_slab = 3.5\n",
    "mat_slab = td.Medium(permittivity=n_slab**2, name='silicon')\n",
    "\n",
    "# Grid resolution (cells per um)\n",
    "dl = 6e-3\n",
    "\n",
    "# space between slabs and sources and PML\n",
    "spacing = 16 * lambda_range[-1]\n",
    "\n",
    "# simulation size\n",
    "sim_size = Lx, Ly, Lz = (dl, dl, 2*spacing + t_slab)"
   ]
  },
  {
   "cell_type": "code",
   "execution_count": 33,
   "id": "01df0886-4475-4bb9-9761-b2f5790ef6c6",
   "metadata": {},
   "outputs": [
    {
     "data": {
      "image/png": "[encoded data removed]",
      "text/plain": [
       "<Figure size 500x400 with 1 Axes>"
      ]
     },
     "metadata": {},
     "output_type": "display_data"
    }
   ],
   "source": [
    "def slab_analytical(d, n, wvl):\n",
    "    \"\"\" computes transmision as a function of slab thickness (d), refractive index (n), and wavelength (wvl). \"\"\"\n",
    "    rho = (n-1)/(n+1)\n",
    "    t = ((1+rho)*(1-rho)*np.exp(-2j*np.pi*n*d/wvl)) / (1 - rho**2*np.exp(-4j*np.pi*n*d/wvl))\n",
    "    return np.abs(t)**2\n",
    "\n",
    "transmission_analytical = slab_analytical(t_slab, n_slab, monitor_lambdas)\n",
    "fig, ax = plt.subplots(1,figsize=(5,4), tight_layout=True)\n",
    "ax.plot(monitor_freqs / 1e12, transmission_analytical, 'k', label='analytical')\n",
    "ax.set_xlabel('frequency (THz)')\n",
    "ax.set_ylabel('Transmitted')\n",
    "ax.legend()\n",
    "plt.show()"
   ]
  },
  {
   "cell_type": "code",
   "execution_count": 34,
   "id": "1dcf6242-f86e-41c5-b835-8d66ccbf88e2",
   "metadata": {},
   "outputs": [],
   "source": [
    "slab = td.Structure(\n",
    "    geometry=td.Box(\n",
    "        center=(0, 0, -Lz/2 + spacing + t_slab/2),\n",
    "        size=(td.inf, td.inf, t_slab),\n",
    "    ),\n",
    "    medium=mat_slab,\n",
    "    name='slab',\n",
    ")\n",
    "\n",
    "# Here we define the planewave source, placed just in advance (towards negative z) of the slab\n",
    "source = td.PlaneWave(\n",
    "    source_time = td.GaussianPulse(\n",
    "        freq0=freq0,\n",
    "        fwidth=freqw\n",
    "    ),\n",
    "    size=(td.inf, td.inf, 0),\n",
    "    center=(0, 0, -Lz/2+spacing/2),\n",
    "    direction='+',\n",
    "    pol_angle=0,\n",
    "    name='planewave',\n",
    ")\n",
    "\n",
    "# We are interested in measuring the transmitted flux, so we set it to be an oversized plane.\n",
    "monitor = td.FluxMonitor(\n",
    "    center = (0, 0, Lz/2 - spacing/2),\n",
    "    size = (td.inf, td.inf, 0),\n",
    "    freqs = monitor_freqs,\n",
    "    name='flux',\n",
    ")"
   ]
  },
  {
   "cell_type": "code",
   "execution_count": 35,
   "id": "ba53d576-63cf-4b24-9642-c1ee0c3288a0",
   "metadata": {},
   "outputs": [],
   "source": [
    "# simulation with default 12 PML layers\n",
    "pml = td.Boundary.pml()\n",
    "bspec = td.BoundarySpec(x=td.Boundary.periodic(), y = td.Boundary.periodic(), z=pml)\n",
    "sim_default = td.Simulation(\n",
    "    center = (0, 0, 0),\n",
    "    size = sim_size,\n",
    "    grid_spec = td.GridSpec.uniform(dl=dl),\n",
    "    structures = [slab],\n",
    "    sources = [source],\n",
    "    monitors = [monitor],\n",
    "    run_time = t_stop,\n",
    "    boundary_spec = bspec,\n",
    ")\n",
    "\n",
    "# simulation with only 2 PML layers\n",
    "pml_2layer = td.Boundary.pml(num_layers=12)\n",
    "bspec_2layer = td.BoundarySpec(x=td.Boundary.periodic(), y = td.Boundary.periodic(), z=pml_2layer)\n",
    "sim_2layer = sim_default.copy(update={'boundary_spec':bspec_2layer})"
   ]
  },
  {
   "cell_type": "code",
   "execution_count": 36,
   "id": "da978c7f-77a2-488b-8da7-212a97a4ce3a",
   "metadata": {
    "scrolled": true
   },
   "outputs": [
    {
     "data": {
      "text/html": [
       "<pre style=\"white-space:pre;overflow-x:auto;line-height:normal;font-family:Menlo,'DejaVu Sans Mono',consolas,'Courier New',monospace\"><span style=\"color: #7fbfbf; text-decoration-color: #7fbfbf\">00:13:48 +07 </span>Created task <span style=\"color: #008000; text-decoration-color: #008000\">'lecture06_FP_default_PML'</span> with task_id               \n",
       "<span style=\"color: #7fbfbf; text-decoration-color: #7fbfbf\">             </span><span style=\"color: #008000; text-decoration-color: #008000\">'fdve-1e774a21-4128-44fc-a273-4dc575c1ae2a'</span> and task_type <span style=\"color: #008000; text-decoration-color: #008000\">'FDTD'</span>.  \n",
       "</pre>\n"
      ],
      "text/plain": [
       "\u001b[2;36m00:13:48 +07\u001b[0m\u001b[2;36m \u001b[0mCreated task \u001b[32m'lecture06_FP_default_PML'\u001b[0m with task_id               \n",
       "\u001b[2;36m             \u001b[0m\u001b[32m'fdve-1e774a21-4128-44fc-a273-4dc575c1ae2a'\u001b[0m and task_type \u001b[32m'FDTD'\u001b[0m.  \n"
      ]
     },
     "metadata": {},
     "output_type": "display_data"
    },
    {
     "data": {
      "text/html": [
       "<pre style=\"white-space:pre;overflow-x:auto;line-height:normal;font-family:Menlo,'DejaVu Sans Mono',consolas,'Courier New',monospace\"><span style=\"color: #7fbfbf; text-decoration-color: #7fbfbf\">             </span>View task using web UI at                                          \n",
       "<span style=\"color: #7fbfbf; text-decoration-color: #7fbfbf\">             </span><a href=\"https://tidy3d.simulation.cloud/workbench?taskId=fdve-1e774a21-4128-44fc-a273-4dc575c1ae2a\" target=\"_blank\"><span style=\"color: #008000; text-decoration-color: #008000\">'https://tidy3d.simulation.cloud/workbench?taskId=fdve-1e774a21-412</span></a>\n",
       "<span style=\"color: #7fbfbf; text-decoration-color: #7fbfbf\">             </span><a href=\"https://tidy3d.simulation.cloud/workbench?taskId=fdve-1e774a21-4128-44fc-a273-4dc575c1ae2a\" target=\"_blank\"><span style=\"color: #008000; text-decoration-color: #008000\">8-44fc-a273-4dc575c1ae2a'</span></a>.                                         \n",
       "</pre>\n"
      ],
      "text/plain": [
       "\u001b[2;36m            \u001b[0m\u001b[2;36m \u001b[0mView task using web UI at                                          \n",
       "\u001b[2;36m             \u001b[0m\u001b]8;id=938647;https://tidy3d.simulation.cloud/workbench?taskId=fdve-1e774a21-4128-44fc-a273-4dc575c1ae2a\u001b\\\u001b[32m'https://tidy3d.simulation.cloud/workbench?\u001b[0m\u001b]8;;\u001b\\\u001b]8;id=665501;https://tidy3d.simulation.cloud/workbench?taskId=fdve-1e774a21-4128-44fc-a273-4dc575c1ae2a\u001b\\\u001b[32mtaskId\u001b[0m\u001b]8;;\u001b\\\u001b]8;id=938647;https://tidy3d.simulation.cloud/workbench?taskId=fdve-1e774a21-4128-44fc-a273-4dc575c1ae2a\u001b\\\u001b[32m=\u001b[0m\u001b]8;;\u001b\\\u001b]8;id=746287;https://tidy3d.simulation.cloud/workbench?taskId=fdve-1e774a21-4128-44fc-a273-4dc575c1ae2a\u001b\\\u001b[32mfdve\u001b[0m\u001b]8;;\u001b\\\u001b]8;id=938647;https://tidy3d.simulation.cloud/workbench?taskId=fdve-1e774a21-4128-44fc-a273-4dc575c1ae2a\u001b\\\u001b[32m-1e774a21-412\u001b[0m\u001b]8;;\u001b\\\n",
       "\u001b[2;36m             \u001b[0m\u001b]8;id=938647;https://tidy3d.simulation.cloud/workbench?taskId=fdve-1e774a21-4128-44fc-a273-4dc575c1ae2a\u001b\\\u001b[32m8-44fc-a273-4dc575c1ae2a'\u001b[0m\u001b]8;;\u001b\\.                                         \n"
      ]
     },
     "metadata": {},
     "output_type": "display_data"
    },
    {
     "data": {
      "text/html": [
       "<pre style=\"white-space:pre;overflow-x:auto;line-height:normal;font-family:Menlo,'DejaVu Sans Mono',consolas,'Courier New',monospace\"></pre>\n"
      ],
      "text/plain": []
     },
     "metadata": {},
     "output_type": "display_data"
    },
    {
     "data": {
      "text/html": [
       "<pre style=\"white-space:pre;overflow-x:auto;line-height:normal;font-family:Menlo,'DejaVu Sans Mono',consolas,'Courier New',monospace\"><span style=\"color: #7fbfbf; text-decoration-color: #7fbfbf\">00:13:51 +07 </span>status = queued                                                    \n",
       "</pre>\n"
      ],
      "text/plain": [
       "\u001b[2;36m00:13:51 +07\u001b[0m\u001b[2;36m \u001b[0mstatus = queued                                                    \n"
      ]
     },
     "metadata": {},
     "output_type": "display_data"
    },
    {
     "data": {
      "text/html": [
       "<pre style=\"white-space:pre;overflow-x:auto;line-height:normal;font-family:Menlo,'DejaVu Sans Mono',consolas,'Courier New',monospace\"><span style=\"color: #7fbfbf; text-decoration-color: #7fbfbf\">             </span>To cancel the simulation, use <span style=\"color: #008000; text-decoration-color: #008000\">'web.abort(task_id)'</span> or              \n",
       "<span style=\"color: #7fbfbf; text-decoration-color: #7fbfbf\">             </span><span style=\"color: #008000; text-decoration-color: #008000\">'web.delete(task_id)'</span> or abort/delete the task in the web UI.      \n",
       "<span style=\"color: #7fbfbf; text-decoration-color: #7fbfbf\">             </span>Terminating the Python script will not stop the job running on the \n",
       "<span style=\"color: #7fbfbf; text-decoration-color: #7fbfbf\">             </span>cloud.                                                             \n",
       "</pre>\n"
      ],
      "text/plain": [
       "\u001b[2;36m            \u001b[0m\u001b[2;36m \u001b[0mTo cancel the simulation, use \u001b[32m'web.abort\u001b[0m\u001b[32m(\u001b[0m\u001b[32mtask_id\u001b[0m\u001b[32m)\u001b[0m\u001b[32m'\u001b[0m or              \n",
       "\u001b[2;36m             \u001b[0m\u001b[32m'web.delete\u001b[0m\u001b[32m(\u001b[0m\u001b[32mtask_id\u001b[0m\u001b[32m)\u001b[0m\u001b[32m'\u001b[0m or abort/delete the task in the web UI.      \n",
       "\u001b[2;36m             \u001b[0mTerminating the Python script will not stop the job running on the \n",
       "\u001b[2;36m             \u001b[0mcloud.                                                             \n"
      ]
     },
     "metadata": {},
     "output_type": "display_data"
    },
    {
     "data": {
      "text/html": [
       "<pre style=\"white-space:pre;overflow-x:auto;line-height:normal;font-family:Menlo,'DejaVu Sans Mono',consolas,'Courier New',monospace\"><span style=\"color: #7fbfbf; text-decoration-color: #7fbfbf\">00:14:04 +07 </span>status = preprocess                                                \n",
       "</pre>\n"
      ],
      "text/plain": [
       "\u001b[2;36m00:14:04 +07\u001b[0m\u001b[2;36m \u001b[0mstatus = preprocess                                                \n"
      ]
     },
     "metadata": {},
     "output_type": "display_data"
    },
    {
     "data": {
      "text/html": [
       "<pre style=\"white-space:pre;overflow-x:auto;line-height:normal;font-family:Menlo,'DejaVu Sans Mono',consolas,'Courier New',monospace\"></pre>\n"
      ],
      "text/plain": []
     },
     "metadata": {},
     "output_type": "display_data"
    },
    {
     "data": {
      "text/html": [
       "<pre style=\"white-space:pre;overflow-x:auto;line-height:normal;font-family:Menlo,'DejaVu Sans Mono',consolas,'Courier New',monospace\"><span style=\"color: #7fbfbf; text-decoration-color: #7fbfbf\">00:14:05 +07 </span>Maximum FlexCredit cost: <span style=\"color: #008080; text-decoration-color: #008080; font-weight: bold\">0.025</span>. Use <span style=\"color: #008000; text-decoration-color: #008000\">'web.real_cost(task_id)'</span> to get\n",
       "<span style=\"color: #7fbfbf; text-decoration-color: #7fbfbf\">             </span>the billed FlexCredit cost after a simulation run.                 \n",
       "</pre>\n"
      ],
      "text/plain": [
       "\u001b[2;36m00:14:05 +07\u001b[0m\u001b[2;36m \u001b[0mMaximum FlexCredit cost: \u001b[1;36m0.025\u001b[0m. Use \u001b[32m'web.real_cost\u001b[0m\u001b[32m(\u001b[0m\u001b[32mtask_id\u001b[0m\u001b[32m)\u001b[0m\u001b[32m'\u001b[0m to get\n",
       "\u001b[2;36m             \u001b[0mthe billed FlexCredit cost after a simulation run.                 \n"
      ]
     },
     "metadata": {},
     "output_type": "display_data"
    },
    {
     "data": {
      "text/html": [
       "<pre style=\"white-space:pre;overflow-x:auto;line-height:normal;font-family:Menlo,'DejaVu Sans Mono',consolas,'Courier New',monospace\"><span style=\"color: #7fbfbf; text-decoration-color: #7fbfbf\">             </span>starting up solver                                                 \n",
       "</pre>\n"
      ],
      "text/plain": [
       "\u001b[2;36m            \u001b[0m\u001b[2;36m \u001b[0mstarting up solver                                                 \n"
      ]
     },
     "metadata": {},
     "output_type": "display_data"
    },
    {
     "data": {
      "text/html": [
       "<pre style=\"white-space:pre;overflow-x:auto;line-height:normal;font-family:Menlo,'DejaVu Sans Mono',consolas,'Courier New',monospace\"><span style=\"color: #7fbfbf; text-decoration-color: #7fbfbf\">             </span>running solver                                                     \n",
       "</pre>\n"
      ],
      "text/plain": [
       "\u001b[2;36m            \u001b[0m\u001b[2;36m \u001b[0mrunning solver                                                     \n"
      ]
     },
     "metadata": {},
     "output_type": "display_data"
    },
    {
     "data": {
      "text/html": [
       "<pre style=\"white-space:pre;overflow-x:auto;line-height:normal;font-family:Menlo,'DejaVu Sans Mono',consolas,'Courier New',monospace\"><span style=\"color: #7fbfbf; text-decoration-color: #7fbfbf\">00:14:06 +07 </span>early shutoff detected at <span style=\"color: #008080; text-decoration-color: #008080; font-weight: bold\">12</span>%, exiting.                            \n",
       "</pre>\n"
      ],
      "text/plain": [
       "\u001b[2;36m00:14:06 +07\u001b[0m\u001b[2;36m \u001b[0mearly shutoff detected at \u001b[1;36m12\u001b[0m%, exiting.                            \n"
      ]
     },
     "metadata": {},
     "output_type": "display_data"
    },
    {
     "data": {
      "text/html": [
       "<pre style=\"white-space:pre;overflow-x:auto;line-height:normal;font-family:Menlo,'DejaVu Sans Mono',consolas,'Courier New',monospace\"></pre>\n"
      ],
      "text/plain": []
     },
     "metadata": {},
     "output_type": "display_data"
    },
    {
     "data": {
      "text/html": [
       "<pre style=\"white-space:pre;overflow-x:auto;line-height:normal;font-family:Menlo,'DejaVu Sans Mono',consolas,'Courier New',monospace\"><span style=\"color: #7fbfbf; text-decoration-color: #7fbfbf\">             </span>status = success                                                   \n",
       "</pre>\n"
      ],
      "text/plain": [
       "\u001b[2;36m            \u001b[0m\u001b[2;36m \u001b[0mstatus = success                                                   \n"
      ]
     },
     "metadata": {},
     "output_type": "display_data"
    },
    {
     "data": {
      "text/html": [
       "<pre style=\"white-space:pre;overflow-x:auto;line-height:normal;font-family:Menlo,'DejaVu Sans Mono',consolas,'Courier New',monospace\"></pre>\n"
      ],
      "text/plain": []
     },
     "metadata": {},
     "output_type": "display_data"
    },
    {
     "data": {
      "text/html": [
       "<pre style=\"white-space:pre;overflow-x:auto;line-height:normal;font-family:Menlo,'DejaVu Sans Mono',consolas,'Courier New',monospace\"><span style=\"color: #7fbfbf; text-decoration-color: #7fbfbf\">             </span>View simulation result at                                          \n",
       "<span style=\"color: #7fbfbf; text-decoration-color: #7fbfbf\">             </span><a href=\"https://tidy3d.simulation.cloud/workbench?taskId=fdve-1e774a21-4128-44fc-a273-4dc575c1ae2a\" target=\"_blank\"><span style=\"color: #000080; text-decoration-color: #000080; text-decoration: underline\">'https://tidy3d.simulation.cloud/workbench?taskId=fdve-1e774a21-412</span></a>\n",
       "<span style=\"color: #7fbfbf; text-decoration-color: #7fbfbf\">             </span><a href=\"https://tidy3d.simulation.cloud/workbench?taskId=fdve-1e774a21-4128-44fc-a273-4dc575c1ae2a\" target=\"_blank\"><span style=\"color: #000080; text-decoration-color: #000080; text-decoration: underline\">8-44fc-a273-4dc575c1ae2a'</span></a><span style=\"color: #000080; text-decoration-color: #000080; text-decoration: underline\">.</span>                                         \n",
       "</pre>\n"
      ],
      "text/plain": [
       "\u001b[2;36m            \u001b[0m\u001b[2;36m \u001b[0mView simulation result at                                          \n",
       "\u001b[2;36m             \u001b[0m\u001b]8;id=318942;https://tidy3d.simulation.cloud/workbench?taskId=fdve-1e774a21-4128-44fc-a273-4dc575c1ae2a\u001b\\\u001b[4;34m'https://tidy3d.simulation.cloud/workbench?\u001b[0m\u001b]8;;\u001b\\\u001b]8;id=127635;https://tidy3d.simulation.cloud/workbench?taskId=fdve-1e774a21-4128-44fc-a273-4dc575c1ae2a\u001b\\\u001b[4;34mtaskId\u001b[0m\u001b]8;;\u001b\\\u001b]8;id=318942;https://tidy3d.simulation.cloud/workbench?taskId=fdve-1e774a21-4128-44fc-a273-4dc575c1ae2a\u001b\\\u001b[4;34m=\u001b[0m\u001b]8;;\u001b\\\u001b]8;id=405228;https://tidy3d.simulation.cloud/workbench?taskId=fdve-1e774a21-4128-44fc-a273-4dc575c1ae2a\u001b\\\u001b[4;34mfdve\u001b[0m\u001b]8;;\u001b\\\u001b]8;id=318942;https://tidy3d.simulation.cloud/workbench?taskId=fdve-1e774a21-4128-44fc-a273-4dc575c1ae2a\u001b\\\u001b[4;34m-1e774a21-412\u001b[0m\u001b]8;;\u001b\\\n",
       "\u001b[2;36m             \u001b[0m\u001b]8;id=318942;https://tidy3d.simulation.cloud/workbench?taskId=fdve-1e774a21-4128-44fc-a273-4dc575c1ae2a\u001b\\\u001b[4;34m8-44fc-a273-4dc575c1ae2a'\u001b[0m\u001b]8;;\u001b\\\u001b[4;34m.\u001b[0m                                         \n"
      ]
     },
     "metadata": {},
     "output_type": "display_data"
    },
    {
     "data": {
      "text/html": [
       "<pre style=\"white-space:pre;overflow-x:auto;line-height:normal;font-family:Menlo,'DejaVu Sans Mono',consolas,'Courier New',monospace\"></pre>\n"
      ],
      "text/plain": []
     },
     "metadata": {},
     "output_type": "display_data"
    },
    {
     "data": {
      "text/html": [
       "<pre style=\"white-space:pre;overflow-x:auto;line-height:normal;font-family:Menlo,'DejaVu Sans Mono',consolas,'Courier New',monospace\"><span style=\"color: #7fbfbf; text-decoration-color: #7fbfbf\">00:14:09 +07 </span>loading simulation from data/data_FP_default.hdf5                  \n",
       "</pre>\n"
      ],
      "text/plain": [
       "\u001b[2;36m00:14:09 +07\u001b[0m\u001b[2;36m \u001b[0mloading simulation from data/data_FP_default.hdf5                  \n"
      ]
     },
     "metadata": {},
     "output_type": "display_data"
    },
    {
     "data": {
      "text/html": [
       "<pre style=\"white-space:pre;overflow-x:auto;line-height:normal;font-family:Menlo,'DejaVu Sans Mono',consolas,'Courier New',monospace\"><span style=\"color: #7fbfbf; text-decoration-color: #7fbfbf\">             </span>Created task <span style=\"color: #008000; text-decoration-color: #008000\">'lecture06_FP_2PMLlayer'</span> with task_id                 \n",
       "<span style=\"color: #7fbfbf; text-decoration-color: #7fbfbf\">             </span><span style=\"color: #008000; text-decoration-color: #008000\">'fdve-83771b1b-c2f2-47e6-a6d0-856d4ccb5c29'</span> and task_type <span style=\"color: #008000; text-decoration-color: #008000\">'FDTD'</span>.  \n",
       "</pre>\n"
      ],
      "text/plain": [
       "\u001b[2;36m            \u001b[0m\u001b[2;36m \u001b[0mCreated task \u001b[32m'lecture06_FP_2PMLlayer'\u001b[0m with task_id                 \n",
       "\u001b[2;36m             \u001b[0m\u001b[32m'fdve-83771b1b-c2f2-47e6-a6d0-856d4ccb5c29'\u001b[0m and task_type \u001b[32m'FDTD'\u001b[0m.  \n"
      ]
     },
     "metadata": {},
     "output_type": "display_data"
    },
    {
     "data": {
      "text/html": [
       "<pre style=\"white-space:pre;overflow-x:auto;line-height:normal;font-family:Menlo,'DejaVu Sans Mono',consolas,'Courier New',monospace\"><span style=\"color: #7fbfbf; text-decoration-color: #7fbfbf\">             </span>View task using web UI at                                          \n",
       "<span style=\"color: #7fbfbf; text-decoration-color: #7fbfbf\">             </span><a href=\"https://tidy3d.simulation.cloud/workbench?taskId=fdve-83771b1b-c2f2-47e6-a6d0-856d4ccb5c29\" target=\"_blank\"><span style=\"color: #008000; text-decoration-color: #008000\">'https://tidy3d.simulation.cloud/workbench?taskId=fdve-83771b1b-c2f</span></a>\n",
       "<span style=\"color: #7fbfbf; text-decoration-color: #7fbfbf\">             </span><a href=\"https://tidy3d.simulation.cloud/workbench?taskId=fdve-83771b1b-c2f2-47e6-a6d0-856d4ccb5c29\" target=\"_blank\"><span style=\"color: #008000; text-decoration-color: #008000\">2-47e6-a6d0-856d4ccb5c29'</span></a>.                                         \n",
       "</pre>\n"
      ],
      "text/plain": [
       "\u001b[2;36m            \u001b[0m\u001b[2;36m \u001b[0mView task using web UI at                                          \n",
       "\u001b[2;36m             \u001b[0m\u001b]8;id=842042;https://tidy3d.simulation.cloud/workbench?taskId=fdve-83771b1b-c2f2-47e6-a6d0-856d4ccb5c29\u001b\\\u001b[32m'https://tidy3d.simulation.cloud/workbench?\u001b[0m\u001b]8;;\u001b\\\u001b]8;id=995675;https://tidy3d.simulation.cloud/workbench?taskId=fdve-83771b1b-c2f2-47e6-a6d0-856d4ccb5c29\u001b\\\u001b[32mtaskId\u001b[0m\u001b]8;;\u001b\\\u001b]8;id=842042;https://tidy3d.simulation.cloud/workbench?taskId=fdve-83771b1b-c2f2-47e6-a6d0-856d4ccb5c29\u001b\\\u001b[32m=\u001b[0m\u001b]8;;\u001b\\\u001b]8;id=273315;https://tidy3d.simulation.cloud/workbench?taskId=fdve-83771b1b-c2f2-47e6-a6d0-856d4ccb5c29\u001b\\\u001b[32mfdve\u001b[0m\u001b]8;;\u001b\\\u001b]8;id=842042;https://tidy3d.simulation.cloud/workbench?taskId=fdve-83771b1b-c2f2-47e6-a6d0-856d4ccb5c29\u001b\\\u001b[32m-83771b1b-c2f\u001b[0m\u001b]8;;\u001b\\\n",
       "\u001b[2;36m             \u001b[0m\u001b]8;id=842042;https://tidy3d.simulation.cloud/workbench?taskId=fdve-83771b1b-c2f2-47e6-a6d0-856d4ccb5c29\u001b\\\u001b[32m2-47e6-a6d0-856d4ccb5c29'\u001b[0m\u001b]8;;\u001b\\.                                         \n"
      ]
     },
     "metadata": {},
     "output_type": "display_data"
    },
    {
     "data": {
      "text/html": [
       "<pre style=\"white-space:pre;overflow-x:auto;line-height:normal;font-family:Menlo,'DejaVu Sans Mono',consolas,'Courier New',monospace\"></pre>\n"
      ],
      "text/plain": []
     },
     "metadata": {},
     "output_type": "display_data"
    },
    {
     "data": {
      "text/html": [
       "<pre style=\"white-space:pre;overflow-x:auto;line-height:normal;font-family:Menlo,'DejaVu Sans Mono',consolas,'Courier New',monospace\"><span style=\"color: #7fbfbf; text-decoration-color: #7fbfbf\">00:14:13 +07 </span>status = queued                                                    \n",
       "</pre>\n"
      ],
      "text/plain": [
       "\u001b[2;36m00:14:13 +07\u001b[0m\u001b[2;36m \u001b[0mstatus = queued                                                    \n"
      ]
     },
     "metadata": {},
     "output_type": "display_data"
    },
    {
     "data": {
      "text/html": [
       "<pre style=\"white-space:pre;overflow-x:auto;line-height:normal;font-family:Menlo,'DejaVu Sans Mono',consolas,'Courier New',monospace\"><span style=\"color: #7fbfbf; text-decoration-color: #7fbfbf\">             </span>To cancel the simulation, use <span style=\"color: #008000; text-decoration-color: #008000\">'web.abort(task_id)'</span> or              \n",
       "<span style=\"color: #7fbfbf; text-decoration-color: #7fbfbf\">             </span><span style=\"color: #008000; text-decoration-color: #008000\">'web.delete(task_id)'</span> or abort/delete the task in the web UI.      \n",
       "<span style=\"color: #7fbfbf; text-decoration-color: #7fbfbf\">             </span>Terminating the Python script will not stop the job running on the \n",
       "<span style=\"color: #7fbfbf; text-decoration-color: #7fbfbf\">             </span>cloud.                                                             \n",
       "</pre>\n"
      ],
      "text/plain": [
       "\u001b[2;36m            \u001b[0m\u001b[2;36m \u001b[0mTo cancel the simulation, use \u001b[32m'web.abort\u001b[0m\u001b[32m(\u001b[0m\u001b[32mtask_id\u001b[0m\u001b[32m)\u001b[0m\u001b[32m'\u001b[0m or              \n",
       "\u001b[2;36m             \u001b[0m\u001b[32m'web.delete\u001b[0m\u001b[32m(\u001b[0m\u001b[32mtask_id\u001b[0m\u001b[32m)\u001b[0m\u001b[32m'\u001b[0m or abort/delete the task in the web UI.      \n",
       "\u001b[2;36m             \u001b[0mTerminating the Python script will not stop the job running on the \n",
       "\u001b[2;36m             \u001b[0mcloud.                                                             \n"
      ]
     },
     "metadata": {},
     "output_type": "display_data"
    },
    {
     "data": {
      "text/html": [
       "<pre style=\"white-space:pre;overflow-x:auto;line-height:normal;font-family:Menlo,'DejaVu Sans Mono',consolas,'Courier New',monospace\"><span style=\"color: #7fbfbf; text-decoration-color: #7fbfbf\">00:14:38 +07 </span>status = preprocess                                                \n",
       "</pre>\n"
      ],
      "text/plain": [
       "\u001b[2;36m00:14:38 +07\u001b[0m\u001b[2;36m \u001b[0mstatus = preprocess                                                \n"
      ]
     },
     "metadata": {},
     "output_type": "display_data"
    },
    {
     "data": {
      "text/html": [
       "<pre style=\"white-space:pre;overflow-x:auto;line-height:normal;font-family:Menlo,'DejaVu Sans Mono',consolas,'Courier New',monospace\"></pre>\n"
      ],
      "text/plain": []
     },
     "metadata": {},
     "output_type": "display_data"
    },
    {
     "data": {
      "text/html": [
       "<pre style=\"white-space:pre;overflow-x:auto;line-height:normal;font-family:Menlo,'DejaVu Sans Mono',consolas,'Courier New',monospace\"><span style=\"color: #7fbfbf; text-decoration-color: #7fbfbf\">00:14:40 +07 </span>Maximum FlexCredit cost: <span style=\"color: #008080; text-decoration-color: #008080; font-weight: bold\">0.025</span>. Use <span style=\"color: #008000; text-decoration-color: #008000\">'web.real_cost(task_id)'</span> to get\n",
       "<span style=\"color: #7fbfbf; text-decoration-color: #7fbfbf\">             </span>the billed FlexCredit cost after a simulation run.                 \n",
       "</pre>\n"
      ],
      "text/plain": [
       "\u001b[2;36m00:14:40 +07\u001b[0m\u001b[2;36m \u001b[0mMaximum FlexCredit cost: \u001b[1;36m0.025\u001b[0m. Use \u001b[32m'web.real_cost\u001b[0m\u001b[32m(\u001b[0m\u001b[32mtask_id\u001b[0m\u001b[32m)\u001b[0m\u001b[32m'\u001b[0m to get\n",
       "\u001b[2;36m             \u001b[0mthe billed FlexCredit cost after a simulation run.                 \n"
      ]
     },
     "metadata": {},
     "output_type": "display_data"
    },
    {
     "data": {
      "text/html": [
       "<pre style=\"white-space:pre;overflow-x:auto;line-height:normal;font-family:Menlo,'DejaVu Sans Mono',consolas,'Courier New',monospace\"><span style=\"color: #7fbfbf; text-decoration-color: #7fbfbf\">             </span>starting up solver                                                 \n",
       "</pre>\n"
      ],
      "text/plain": [
       "\u001b[2;36m            \u001b[0m\u001b[2;36m \u001b[0mstarting up solver                                                 \n"
      ]
     },
     "metadata": {},
     "output_type": "display_data"
    },
    {
     "data": {
      "text/html": [
       "<pre style=\"white-space:pre;overflow-x:auto;line-height:normal;font-family:Menlo,'DejaVu Sans Mono',consolas,'Courier New',monospace\"><span style=\"color: #7fbfbf; text-decoration-color: #7fbfbf\">             </span>running solver                                                     \n",
       "</pre>\n"
      ],
      "text/plain": [
       "\u001b[2;36m            \u001b[0m\u001b[2;36m \u001b[0mrunning solver                                                     \n"
      ]
     },
     "metadata": {},
     "output_type": "display_data"
    },
    {
     "data": {
      "text/html": [
       "<pre style=\"white-space:pre;overflow-x:auto;line-height:normal;font-family:Menlo,'DejaVu Sans Mono',consolas,'Courier New',monospace\"><span style=\"color: #7fbfbf; text-decoration-color: #7fbfbf\">00:14:44 +07 </span>early shutoff detected at <span style=\"color: #008080; text-decoration-color: #008080; font-weight: bold\">12</span>%, exiting.                            \n",
       "</pre>\n"
      ],
      "text/plain": [
       "\u001b[2;36m00:14:44 +07\u001b[0m\u001b[2;36m \u001b[0mearly shutoff detected at \u001b[1;36m12\u001b[0m%, exiting.                            \n"
      ]
     },
     "metadata": {},
     "output_type": "display_data"
    },
    {
     "data": {
      "text/html": [
       "<pre style=\"white-space:pre;overflow-x:auto;line-height:normal;font-family:Menlo,'DejaVu Sans Mono',consolas,'Courier New',monospace\"></pre>\n"
      ],
      "text/plain": []
     },
     "metadata": {},
     "output_type": "display_data"
    },
    {
     "data": {
      "text/html": [
       "<pre style=\"white-space:pre;overflow-x:auto;line-height:normal;font-family:Menlo,'DejaVu Sans Mono',consolas,'Courier New',monospace\"><span style=\"color: #7fbfbf; text-decoration-color: #7fbfbf\">             </span>status = postprocess                                               \n",
       "</pre>\n"
      ],
      "text/plain": [
       "\u001b[2;36m            \u001b[0m\u001b[2;36m \u001b[0mstatus = postprocess                                               \n"
      ]
     },
     "metadata": {},
     "output_type": "display_data"
    },
    {
     "data": {
      "text/html": [
       "<pre style=\"white-space:pre;overflow-x:auto;line-height:normal;font-family:Menlo,'DejaVu Sans Mono',consolas,'Courier New',monospace\"><span style=\"color: #7fbfbf; text-decoration-color: #7fbfbf\">             </span>status = success                                                   \n",
       "</pre>\n"
      ],
      "text/plain": [
       "\u001b[2;36m            \u001b[0m\u001b[2;36m \u001b[0mstatus = success                                                   \n"
      ]
     },
     "metadata": {},
     "output_type": "display_data"
    },
    {
     "data": {
      "text/html": [
       "<pre style=\"white-space:pre;overflow-x:auto;line-height:normal;font-family:Menlo,'DejaVu Sans Mono',consolas,'Courier New',monospace\"></pre>\n"
      ],
      "text/plain": []
     },
     "metadata": {},
     "output_type": "display_data"
    },
    {
     "data": {
      "text/html": [
       "<pre style=\"white-space:pre;overflow-x:auto;line-height:normal;font-family:Menlo,'DejaVu Sans Mono',consolas,'Courier New',monospace\"><span style=\"color: #7fbfbf; text-decoration-color: #7fbfbf\">00:14:45 +07 </span>View simulation result at                                          \n",
       "<span style=\"color: #7fbfbf; text-decoration-color: #7fbfbf\">             </span><a href=\"https://tidy3d.simulation.cloud/workbench?taskId=fdve-83771b1b-c2f2-47e6-a6d0-856d4ccb5c29\" target=\"_blank\"><span style=\"color: #000080; text-decoration-color: #000080; text-decoration: underline\">'https://tidy3d.simulation.cloud/workbench?taskId=fdve-83771b1b-c2f</span></a>\n",
       "<span style=\"color: #7fbfbf; text-decoration-color: #7fbfbf\">             </span><a href=\"https://tidy3d.simulation.cloud/workbench?taskId=fdve-83771b1b-c2f2-47e6-a6d0-856d4ccb5c29\" target=\"_blank\"><span style=\"color: #000080; text-decoration-color: #000080; text-decoration: underline\">2-47e6-a6d0-856d4ccb5c29'</span></a><span style=\"color: #000080; text-decoration-color: #000080; text-decoration: underline\">.</span>                                         \n",
       "</pre>\n"
      ],
      "text/plain": [
       "\u001b[2;36m00:14:45 +07\u001b[0m\u001b[2;36m \u001b[0mView simulation result at                                          \n",
       "\u001b[2;36m             \u001b[0m\u001b]8;id=417669;https://tidy3d.simulation.cloud/workbench?taskId=fdve-83771b1b-c2f2-47e6-a6d0-856d4ccb5c29\u001b\\\u001b[4;34m'https://tidy3d.simulation.cloud/workbench?\u001b[0m\u001b]8;;\u001b\\\u001b]8;id=661101;https://tidy3d.simulation.cloud/workbench?taskId=fdve-83771b1b-c2f2-47e6-a6d0-856d4ccb5c29\u001b\\\u001b[4;34mtaskId\u001b[0m\u001b]8;;\u001b\\\u001b]8;id=417669;https://tidy3d.simulation.cloud/workbench?taskId=fdve-83771b1b-c2f2-47e6-a6d0-856d4ccb5c29\u001b\\\u001b[4;34m=\u001b[0m\u001b]8;;\u001b\\\u001b]8;id=969246;https://tidy3d.simulation.cloud/workbench?taskId=fdve-83771b1b-c2f2-47e6-a6d0-856d4ccb5c29\u001b\\\u001b[4;34mfdve\u001b[0m\u001b]8;;\u001b\\\u001b]8;id=417669;https://tidy3d.simulation.cloud/workbench?taskId=fdve-83771b1b-c2f2-47e6-a6d0-856d4ccb5c29\u001b\\\u001b[4;34m-83771b1b-c2f\u001b[0m\u001b]8;;\u001b\\\n",
       "\u001b[2;36m             \u001b[0m\u001b]8;id=417669;https://tidy3d.simulation.cloud/workbench?taskId=fdve-83771b1b-c2f2-47e6-a6d0-856d4ccb5c29\u001b\\\u001b[4;34m2-47e6-a6d0-856d4ccb5c29'\u001b[0m\u001b]8;;\u001b\\\u001b[4;34m.\u001b[0m                                         \n"
      ]
     },
     "metadata": {},
     "output_type": "display_data"
    },
    {
     "data": {
      "text/html": [
       "<pre style=\"white-space:pre;overflow-x:auto;line-height:normal;font-family:Menlo,'DejaVu Sans Mono',consolas,'Courier New',monospace\"></pre>\n"
      ],
      "text/plain": []
     },
     "metadata": {},
     "output_type": "display_data"
    },
    {
     "data": {
      "text/html": [
       "<pre style=\"white-space:pre;overflow-x:auto;line-height:normal;font-family:Menlo,'DejaVu Sans Mono',consolas,'Courier New',monospace\"><span style=\"color: #7fbfbf; text-decoration-color: #7fbfbf\">00:14:46 +07 </span>loading simulation from data/data_FP_2layer.hdf5                   \n",
       "</pre>\n"
      ],
      "text/plain": [
       "\u001b[2;36m00:14:46 +07\u001b[0m\u001b[2;36m \u001b[0mloading simulation from data/data_FP_2layer.hdf5                   \n"
      ]
     },
     "metadata": {},
     "output_type": "display_data"
    }
   ],
   "source": [
    "sim_FP_data = web.run(sim_default, task_name='lecture06_FP_default_PML', path=f'data/data_FP_default.hdf5')\n",
    "sim_FP_2layer_data = web.run(sim_2layer, task_name='lecture06_FP_2PMLlayer', path=f'data/data_FP_2layer.hdf5')"
   ]
  },
  {
   "cell_type": "code",
   "execution_count": 37,
   "id": "90ab638a-149a-4387-983a-9a279e7c4c63",
   "metadata": {
    "scrolled": true
   },
   "outputs": [
    {
     "data": {
      "image/png": "[encoded data removed]",
      "text/plain": [
       "<Figure size 600x400 with 1 Axes>"
      ]
     },
     "metadata": {},
     "output_type": "display_data"
    }
   ],
   "source": [
    "fig, ax = plt.subplots(1,figsize=(6,4), tight_layout=True)\n",
    "\n",
    "transmission_default = sim_FP_data['flux'].flux\n",
    "transmission_2layer = sim_FP_2layer_data['flux'].flux\n",
    "\n",
    "ax.plot(monitor_freqs/1e12, transmission_analytical, 'k', label='analytical')\n",
    "ax.plot(monitor_freqs/1e12, transmission_default, 'b--', label='default')\n",
    "ax.plot(monitor_freqs/1e12, transmission_2layer, 'r--', label='2layer')\n",
    "ax.set_xlabel('frequency (THz)')\n",
    "ax.set_xlim([200, 400])\n",
    "ax.set_ylim(0,1.8)\n",
    "ax.set_ylabel('Transmitted')\n",
    "plt.show()"
   ]
  },
  {
   "cell_type": "code",
   "execution_count": null,
   "id": "c87d46e2-204c-4587-83e3-4308b0c24503",
   "metadata": {},
   "outputs": [],
   "source": []
  }
 ],
 "metadata": {
  "kernelspec": {
   "display_name": "Python 3 (ipykernel)",
   "language": "python",
   "name": "python3"
  },
  "language_info": {
   "codemirror_mode": {
    "name": "ipython",
    "version": 3
   },
   "file_extension": ".py",
   "mimetype": "text/x-python",
   "name": "python",
   "nbconvert_exporter": "python",
   "pygments_lexer": "ipython3",
   "version": "3.10.13"
  }
 },
 "nbformat": 4,
 "nbformat_minor": 5
}
